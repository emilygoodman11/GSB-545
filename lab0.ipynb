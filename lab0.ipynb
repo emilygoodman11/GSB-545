{
  "nbformat": 4,
  "nbformat_minor": 0,
  "metadata": {
    "colab": {
      "provenance": []
    },
    "kernelspec": {
      "name": "python3",
      "display_name": "Python 3"
    },
    "language_info": {
      "name": "python"
    }
  },
  "cells": [
    {
      "cell_type": "markdown",
      "source": [
        "#Lab 0: Emily Goodman"
      ],
      "metadata": {
        "id": "dxOwwFpoJ-b7"
      }
    },
    {
      "cell_type": "markdown",
      "source": [
        "##What were your reasons for pursuing this MSBA program here at Cal Poly? Did you come straight from another academic program (Bachelors, Masters, etc.) or were you working before this? What program(s) or job did you come from?\n"
      ],
      "metadata": {
        "id": "J4VDSjzcJMNu"
      }
    },
    {
      "cell_type": "markdown",
      "source": [
        "I decided to pursue the MSBA because I realised late during my undergrad in Information systems that I really enjoyed the coding and analysis part of my degree. So with this I decided to pursue a ceritficatioon in data science and I really enjoyed doing that. So i decided to continue looking into data science and I found this program. Also I didnt feel like looking for a job yet."
      ],
      "metadata": {
        "id": "kgnt4eoOKRBB"
      }
    },
    {
      "cell_type": "markdown",
      "source": [
        "##What job or career do you hope to pursue after graduating from this MSBA program? Do you have particular industries or companies in mind? If so, what are they? Do you have particular places in mind that you'd like to live or work? Why are you interested in these companies, etc.?\n"
      ],
      "metadata": {
        "id": "AtzE5PLRJTyE"
      }
    },
    {
      "cell_type": "markdown",
      "source": [
        "I am really intrested in pursuing a job in business analytics or data analytics especially in the tech industry. I really enjoy coding and finding solutions to problems with a tech background. I really want to work for microsoft or nvidia: because I have heard great work enviroments, and they are on the cutting edge of technology. Plus I have background in robotics so I would love to go back to working with engineers."
      ],
      "metadata": {
        "id": "do6-9GVMScDU"
      }
    },
    {
      "cell_type": "markdown",
      "source": [
        "#If you haven't already started thinking about your finances after graduation, let's start! You should use Python to store relevant values and perform the calculations described below:\n"
      ],
      "metadata": {
        "id": "SG3EqtCSJW7b"
      }
    },
    {
      "cell_type": "markdown",
      "source": [
        "What is your estimate of the cost-of-living in your desired place to live, per month? You should justify this estimate by citing online sources or other relevant information. You should also break this down into component costs (e.g. housing, utilities, car, gas, internet, food, entertainment, etc.) as much as you can.\n"
      ],
      "metadata": {
        "id": "DvNd0SxCJuBc"
      }
    },
    {
      "cell_type": "markdown",
      "source": [
        "##make sure to define these variables you will be using them below"
      ],
      "metadata": {
        "id": "vegKEOf9gzWA"
      }
    },
    {
      "cell_type": "code",
      "source": [
        "housing= 1500\n",
        "utilities= 100\n",
        "car= 2500/12 #insurance and registraion\n",
        "gas= 75 #i drive a hybrid\n",
        "internet= 35\n",
        "food= 650\n",
        "entertainment= 500\n",
        "emergencyfund= 200\n",
        "insurance= 30\n",
        "cost_of_living= housing+utilities+car+gas+internet+food+entertainment+emergencyfund+insurance\n",
        "print(cost_of_living)"
      ],
      "metadata": {
        "colab": {
          "base_uri": "https://localhost:8080/"
        },
        "id": "bfFbNEp6LSYN",
        "outputId": "ecbe43a4-d031-4e5f-a730-a667d72aead5"
      },
      "execution_count": 26,
      "outputs": [
        {
          "output_type": "stream",
          "name": "stdout",
          "text": [
            "3298.333333333333\n"
          ]
        }
      ]
    },
    {
      "cell_type": "markdown",
      "source": [
        "What is the annual salary you need to afford the costs you outlined above? This should, in essence, be the minimum salary you need to afford the life you could live happily (you could probably survive on less, but let's not get too detailed here). Be careful to consider whether you're taking taxes into account! We don't need to get too detailed here either, but you should try to estimate what your actual take-home pay is versus the gross salary that you might be presented with in the offer from your employer.\n"
      ],
      "metadata": {
        "id": "hFZFxQhWJxVC"
      }
    },
    {
      "cell_type": "code",
      "source": [
        "def calculate_tax_brackets(income, brackets):\n",
        "    \"\"\"\n",
        "    Calculate tax based on progressive tax brackets.\n",
        "\n",
        "    :param income: Total taxable income\n",
        "    :param brackets: List of tuples (bracket limit, tax rate)\n",
        "    :return: Total tax amount\n",
        "    \"\"\"\n",
        "    tax = 0\n",
        "    previous_limit = 0\n",
        "\n",
        "    for limit, rate in brackets:\n",
        "        if income > limit:\n",
        "            tax += (limit - previous_limit) * rate\n",
        "            previous_limit = limit\n",
        "        else:\n",
        "            tax += (income - previous_limit) * rate\n",
        "            break\n",
        "\n",
        "    return tax\n",
        "\n",
        "def calculate_california_taxes(annual_salary):\n",
        "    \"\"\"\n",
        "    Calculates California state income tax, federal tax, and FICA deductions.\n",
        "\n",
        "    :param annual_salary: Total annual salary\n",
        "    :return: Monthly tax amount\n",
        "    \"\"\"\n",
        "    # 2024 California tax brackets (Single filers)\n",
        "    ca_brackets = [\n",
        "        (10099, 0.01), (23942, 0.02), (37788, 0.04), (52455, 0.06),\n",
        "        (66295, 0.08), (338639, 0.093), (406364, 0.103), (677275, 0.113),\n",
        "        (1000000, 0.123), (float('inf'), 0.133)\n",
        "    ]\n",
        "\n",
        "    # 2024 Federal tax brackets (Single filers)\n",
        "    fed_brackets = [\n",
        "        (11600, 0.10), (47150, 0.12), (100525, 0.22), (191950, 0.24),\n",
        "        (243725, 0.32), (609350, 0.35), (float('inf'), 0.37)\n",
        "    ]\n",
        "\n",
        "    # FICA Taxes (Social Security + Medicare)\n",
        "    social_security_tax = min(annual_salary, 168600) * 0.062  # SS capped at $168,600\n",
        "    medicare_tax = annual_salary * 0.0145\n",
        "    if annual_salary > 200000:  # Additional Medicare tax\n",
        "        medicare_tax += (annual_salary - 200000) * 0.009\n",
        "\n",
        "    # Calculate taxes\n",
        "    ca_tax = calculate_tax_brackets(annual_salary, ca_brackets)\n",
        "    fed_tax = calculate_tax_brackets(annual_salary, fed_brackets)\n",
        "\n",
        "    # Total tax\n",
        "    total_annual_tax = ca_tax + fed_tax + social_security_tax + medicare_tax\n",
        "    monthly_tax = total_annual_tax / 12\n",
        "\n",
        "    return monthly_tax\n",
        "\n",
        "# Example usage:\n",
        "# Make sure to define calculate_california_taxes function before using it\n",
        "\n",
        "annual_salary = float(input(\"Enter your total annual salary: $\"))\n",
        "monthly_tax = calculate_california_taxes(annual_salary)\n",
        "\n",
        "print(f\"Your estimated monthly tax amount is: ${monthly_tax:.2f}\")\n",
        "\n",
        "# Calculate monthly take-home salary\n",
        "monthly_net_salary = (annual_salary / 12) - monthly_tax\n",
        "\n",
        "print(f\"Your estimated monthly take-home salary is: ${monthly_net_salary:.2f}\")\n"
      ],
      "metadata": {
        "colab": {
          "base_uri": "https://localhost:8080/"
        },
        "id": "at4WbBXXVGmj",
        "outputId": "5a23543e-fd2a-4eed-afd0-968eba6a2b0b"
      },
      "execution_count": 27,
      "outputs": [
        {
          "output_type": "stream",
          "name": "stdout",
          "text": [
            "Enter your total annual salary: $90000\n",
            "Your estimated monthly tax amount is: $2238.46\n",
            "Your estimated monthly take-home salary is: $5261.54\n"
          ]
        }
      ]
    },
    {
      "cell_type": "code",
      "source": [
        "leftover_money = monthly_net_salary - cost_of_living\n",
        "\n",
        "# Print results\n",
        "print(f\"\\nYour estimated monthly tax amount is: ${monthly_tax:.2f}\")\n",
        "print(f\"Your estimated monthly take-home salary is: ${monthly_net_salary:.2f}\")\n",
        "print(f\"Your total monthly cost of living is: ${cost_of_living:.2f}\")\n",
        "print(f\"Your estimated leftover money after expenses is: ${leftover_money:.2f}\")"
      ],
      "metadata": {
        "colab": {
          "base_uri": "https://localhost:8080/"
        },
        "id": "b1MxoHF7ZEms",
        "outputId": "8a0b1d4a-c65f-4355-bdf8-2825b15d8be2"
      },
      "execution_count": 28,
      "outputs": [
        {
          "output_type": "stream",
          "name": "stdout",
          "text": [
            "\n",
            "Your estimated monthly tax amount is: $2238.46\n",
            "Your estimated monthly take-home salary is: $5261.54\n",
            "Your total monthly cost of living is: $3298.33\n",
            "Your estimated leftover money after expenses is: $1963.21\n"
          ]
        }
      ]
    },
    {
      "cell_type": "code",
      "source": [
        "def calculate_tax_brackets(income, brackets):\n",
        "    \"\"\"Calculate tax based on progressive tax brackets.\"\"\"\n",
        "    tax = 0\n",
        "    previous_limit = 0\n",
        "\n",
        "    for limit, rate in brackets:\n",
        "        if income > limit:\n",
        "            tax += (limit - previous_limit) * rate\n",
        "            previous_limit = limit\n",
        "        else:\n",
        "            tax += (income - previous_limit) * rate\n",
        "            break\n",
        "\n",
        "    return tax\n",
        "\n",
        "def calculate_california_taxes(annual_salary):\n",
        "    \"\"\"Calculates CA state tax, federal tax, and FICA deductions.\"\"\"\n",
        "    # 2024 CA State Tax Brackets (Single)\n",
        "    ca_brackets = [\n",
        "        (10099, 0.01), (23942, 0.02), (37788, 0.04), (52455, 0.06),\n",
        "        (66295, 0.08), (338639, 0.093), (406364, 0.103), (677275, 0.113),\n",
        "        (1000000, 0.123), (float('inf'), 0.133)\n",
        "    ]\n",
        "\n",
        "    # 2024 Federal Tax Brackets (Single)\n",
        "    fed_brackets = [\n",
        "        (11600, 0.10), (47150, 0.12), (100525, 0.22), (191950, 0.24),\n",
        "        (243725, 0.32), (609350, 0.35), (float('inf'), 0.37)\n",
        "    ]\n",
        "\n",
        "    # FICA Taxes (Social Security + Medicare)\n",
        "    social_security_tax = min(annual_salary, 168600) * 0.062  # SS cap at $168,600\n",
        "    medicare_tax = annual_salary * 0.0145\n",
        "    if annual_salary > 200000:\n",
        "        medicare_tax += (annual_salary - 200000) * 0.009  # Additional Medicare Tax\n",
        "\n",
        "    # Calculate total taxes\n",
        "    ca_tax = calculate_tax_brackets(annual_salary, ca_brackets)\n",
        "    fed_tax = calculate_tax_brackets(annual_salary, fed_brackets)\n",
        "    total_annual_tax = ca_tax + fed_tax + social_security_tax + medicare_tax\n",
        "\n",
        "    return total_annual_tax / 12  # Monthly tax amount\n",
        "\n",
        "def find_minimum_salary(cost_of_living, savings_rate=0.10):\n",
        "    \"\"\"\n",
        "    Determines the minimum annual salary required to cover monthly expenses and savings goal.\n",
        "    Uses an iterative approach since taxes are progressive.\n",
        "    \"\"\"\n",
        "    from math import ceil\n",
        "\n",
        "    # Start with a reasonable guess and iterate upwards\n",
        "    estimated_annual_salary = 40000  # Initial guess\n",
        "\n",
        "    while True:\n",
        "        monthly_tax = calculate_california_taxes(estimated_annual_salary)\n",
        "        monthly_income = estimated_annual_salary / 12\n",
        "        monthly_savings = monthly_income * savings_rate\n",
        "        monthly_take_home = monthly_income - monthly_tax\n",
        "\n",
        "        # Check if take-home pay covers both cost of living and savings\n",
        "        if monthly_take_home >= (cost_of_living + monthly_savings):\n",
        "            return ceil(estimated_annual_salary)  # Return rounded-up value\n",
        "\n",
        "        estimated_annual_salary += 500  # Increase estimate slightly and retry\n",
        "\n",
        "# Total cost of living\n",
        "cost_of_living = housing + utilities + car + gas + internet + food + entertainment + emergency_fund + insurance\n",
        "\n",
        "# Find the minimum salary needed\n",
        "min_salary = find_minimum_salary(cost_of_living)\n",
        "\n",
        "print(f\"The minimum annual salary required to cover your expenses + 10% savings is: ${min_salary:.2f}\")\n",
        "print(f\"That’s approximately ${min_salary / 12:.2f} per month before taxes.\")\n"
      ],
      "metadata": {
        "colab": {
          "base_uri": "https://localhost:8080/"
        },
        "id": "SvGlpxLPaGtP",
        "outputId": "75e5e9ef-8bf0-4845-ea83-25312997bf77"
      },
      "execution_count": 29,
      "outputs": [
        {
          "output_type": "stream",
          "name": "stdout",
          "text": [
            "The minimum annual salary required to cover your expenses + 10% savings is: $62000.00\n",
            "That’s approximately $5166.67 per month before taxes.\n"
          ]
        }
      ]
    },
    {
      "cell_type": "markdown",
      "source": [
        "What is the annual salary you WANT? I imagine this will be higher than what was previously mentioned. What do you want the additional income for?\n"
      ],
      "metadata": {
        "id": "_rrRiRdoJ0my"
      }
    },
    {
      "cell_type": "code",
      "source": [
        "#I would like to have at least $100,000\n",
        "annual_salary = float(input(\"Enter your total annual salary: $\"))\n",
        "monthly_tax = calculate_california_taxes(annual_salary)\n",
        "\n",
        "\n",
        "# Calculate monthly take-home salary\n",
        "monthly_net_salary = (annual_salary / 12) - monthly_tax\n",
        "\n",
        "\n",
        "leftover_money = monthly_net_salary - cost_of_living\n",
        "\n",
        "# Print results\n",
        "print(f\"\\nYour estimated monthly tax amount is: ${monthly_tax:.2f}\")\n",
        "print(f\"Your estimated monthly take-home salary is: ${monthly_net_salary:.2f}\")\n",
        "print(f\"Your total monthly cost of living is: ${cost_of_living:.2f}\")\n",
        "print(f\"Your estimated leftover money after expenses is: ${leftover_money:.2f}\")"
      ],
      "metadata": {
        "colab": {
          "base_uri": "https://localhost:8080/"
        },
        "id": "SZyvKB98aiFh",
        "outputId": "140e9c33-3302-493c-a987-ab63774d7520"
      },
      "execution_count": 30,
      "outputs": [
        {
          "output_type": "stream",
          "name": "stdout",
          "text": [
            "Enter your total annual salary: $100000\n",
            "\n",
            "Your estimated monthly tax amount is: $2563.04\n",
            "Your estimated monthly take-home salary is: $5770.29\n",
            "Your total monthly cost of living is: $3298.33\n",
            "Your estimated leftover money after expenses is: $2471.96\n"
          ]
        }
      ]
    },
    {
      "cell_type": "markdown",
      "source": [
        "Finally, when do you want to retire and with how much money? This is where the bulk of your computations for this assignment will be, and you may need to do some research into how these things are computed. Your job may have retirement funding built into it; it may not. Additionally, there are some calculators online that do some of these types of calculations for you. I'd like you to (re-)do these calculations as much as possible on your own in Python.\n",
        "What salary do you need to retire when you want with the amount that you specified?\n",
        "Please include citations or justification for the formulas you're using to compute all of this."
      ],
      "metadata": {
        "id": "j0h67sL7J3Mg"
      }
    },
    {
      "cell_type": "code",
      "source": [
        "def calculate_required_savings(target_retirement_fund, years_until_retirement, annual_return=0.07):\n",
        "    \"\"\"\n",
        "    Calculates how much needs to be saved annually to reach the retirement goal.\n",
        "    Uses the Future Value of an Annuity formula.\n",
        "    \"\"\"\n",
        "    r = annual_return\n",
        "    t = years_until_retirement\n",
        "\n",
        "    annual_savings = (target_retirement_fund * r) / ((1 + r) ** t - 1)\n",
        "    return annual_savings\n",
        "\n",
        "def calculate_savings_rate(salary, retirement_rate=0.12, savings_rate=0.05):\n",
        "    \"\"\"\n",
        "    Calculates the total amount saved annually based on salary.\n",
        "    \"\"\"\n",
        "    total_savings_rate = retirement_rate + savings_rate  # 12% for retirement + 5% for general savings = 17%\n",
        "    return salary * total_savings_rate\n",
        "\n",
        "# Get user inputs\n",
        "salary = float(input(\"Enter your annual salary: $\"))\n",
        "current_age = int(input(\"Enter your current age: \"))\n",
        "retirement_age = int(input(\"Enter your desired retirement age: \"))\n",
        "\n",
        "# Assumptions\n",
        "target_retirement_fund = 2_000_000  # Target savings at retirement\n",
        "years_until_retirement = retirement_age - current_age  # Years left to save\n",
        "retirement_rate = 0.12  # 12% into retirement\n",
        "savings_rate = 0.05  # 5% into savings\n",
        "\n",
        "if years_until_retirement <= 0:\n",
        "    print(\"Error: Retirement age must be greater than your current age.\")\n",
        "else:\n",
        "    # Compute required annual savings for retirement\n",
        "    annual_retirement_savings = calculate_required_savings(target_retirement_fund, years_until_retirement)\n",
        "\n",
        "    # Compute actual annual savings based on salary\n",
        "    actual_savings = calculate_savings_rate(salary, retirement_rate, savings_rate)\n",
        "\n",
        "    # Output results\n",
        "    print(f\"\\nTo retire with ${target_retirement_fund:,} by age {retirement_age}:\")\n",
        "    print(f\"- You need to save: ${annual_retirement_savings:.2f} per year for retirement\")\n",
        "    print(f\"- With your current salary (${salary:,}), you are saving ${actual_savings:.2f} per year (12% retirement + 5% savings).\")\n",
        "\n",
        "    # Check if the savings are enough\n",
        "    if actual_savings >= annual_retirement_savings:\n",
        "        print(\"✅ You are on track for retirement! Keep up the good work! 🎉\")\n",
        "    else:\n",
        "        shortfall = annual_retirement_savings - actual_savings\n",
        "        print(f\"⚠️ You need to save an additional ${shortfall:.2f} per year to stay on track.\")\n"
      ],
      "metadata": {
        "colab": {
          "base_uri": "https://localhost:8080/"
        },
        "id": "-Uzqlgn-e1ke",
        "outputId": "605c62ee-19be-420d-9942-f6d60a6de9bb"
      },
      "execution_count": 34,
      "outputs": [
        {
          "output_type": "stream",
          "name": "stdout",
          "text": [
            "Enter your annual salary: $90000\n",
            "Enter your current age: 23\n",
            "Enter your desired retirement age: 65\n",
            "\n",
            "To retire with $2,000,000 by age 65:\n",
            "- You need to save: $8671.81 per year for retirement\n",
            "- With your current salary ($90,000.0), you are saving $15300.00 per year (12% retirement + 5% savings).\n",
            "✅ You are on track for retirement! Keep up the good work! 🎉\n"
          ]
        }
      ]
    },
    {
      "cell_type": "markdown",
      "source": [
        "I'll give a little bit of extra credit if you build this file and your code in a way that allows a user (yourself) to, say, increase the cost of gas and the following computations of needed salary, wanted salary, and retirement values adjust automatically."
      ],
      "metadata": {
        "id": "ISc3Qc7fJe4Y"
      }
    },
    {
      "cell_type": "markdown",
      "source": [
        "all together, the taxes, retirment, saving, cost of living"
      ],
      "metadata": {
        "id": "GuWFFTHThc5-"
      }
    },
    {
      "cell_type": "code",
      "source": [
        "def calculate_federal_taxes(annual_salary):\n",
        "    \"\"\"\n",
        "    Calculates federal income tax based on 2024 U.S. tax brackets.\n",
        "    \"\"\"\n",
        "    brackets = [\n",
        "        (0, 11000, 0.10),\n",
        "        (11001, 44725, 0.12),\n",
        "        (44726, 95375, 0.22),\n",
        "        (95376, 182100, 0.24),\n",
        "        (182101, 231250, 0.32),\n",
        "        (231251, 578125, 0.35),\n",
        "        (578126, float(\"inf\"), 0.37),\n",
        "    ]\n",
        "\n",
        "    tax = 0\n",
        "    for lower, upper, rate in brackets:\n",
        "        if annual_salary > lower:\n",
        "            taxable_income = min(annual_salary, upper) - lower\n",
        "            tax += taxable_income * rate\n",
        "        else:\n",
        "            break\n",
        "    return tax\n",
        "\n",
        "def calculate_california_taxes(annual_salary):\n",
        "    \"\"\"\n",
        "    Calculates California state income tax based on 2024 brackets.\n",
        "    \"\"\"\n",
        "    brackets = [\n",
        "        (0, 10499, 0.01),\n",
        "        (10500, 33299, 0.02),\n",
        "        (33300, 52479, 0.04),\n",
        "        (52480, 66299, 0.06),\n",
        "        (66300, 338639, 0.093),\n",
        "        (338640, 406364, 0.103),\n",
        "        (406365, 677275, 0.113),\n",
        "        (677276, float(\"inf\"), 0.123),\n",
        "    ]\n",
        "\n",
        "    tax = 0\n",
        "    for lower, upper, rate in brackets:\n",
        "        if annual_salary > lower:\n",
        "            taxable_income = min(annual_salary, upper) - lower\n",
        "            tax += taxable_income * rate\n",
        "        else:\n",
        "            break\n",
        "    return tax\n",
        "\n",
        "def calculate_fica_taxes(annual_salary):\n",
        "    \"\"\"\n",
        "    Calculates FICA taxes (Social Security + Medicare).\n",
        "    - Social Security: 6.2% on income up to $168,600 (2024 limit)\n",
        "    - Medicare: 1.45% on all income (+0.9% extra over $200,000)\n",
        "    \"\"\"\n",
        "    ss_rate = 0.062\n",
        "    medicare_rate = 0.0145\n",
        "    additional_medicare_rate = 0.009  # For income over $200k\n",
        "\n",
        "    social_security_tax = min(annual_salary, 168600) * ss_rate\n",
        "    medicare_tax = annual_salary * medicare_rate\n",
        "\n",
        "    if annual_salary > 200000:\n",
        "        medicare_tax += (annual_salary - 200000) * additional_medicare_rate\n",
        "\n",
        "    return social_security_tax + medicare_tax\n",
        "\n",
        "def calculate_required_savings(target_retirement_fund, years_until_retirement, annual_return=0.07):\n",
        "    \"\"\"\n",
        "    Calculates the annual savings needed for retirement.\n",
        "    \"\"\"\n",
        "    r = annual_return\n",
        "    t = years_until_retirement\n",
        "\n",
        "    annual_savings = (target_retirement_fund * r) / ((1 + r) ** t - 1)\n",
        "    return annual_savings\n",
        "\n",
        "# Get user inputs\n",
        "salary = float(input(\"Enter your annual salary: $\"))\n",
        "current_age = int(input(\"Enter your current age: \"))\n",
        "retirement_age = int(input(\"Enter your desired retirement age: \"))\n",
        "\n",
        "# Cost of Living Breakdown\n",
        "cost_of_living = housing + utilities + car + gas + internet + food + entertainment + emergency_fund + insurance\n",
        "\n",
        "# Calculate Tax Deductions\n",
        "federal_tax = calculate_federal_taxes(salary)\n",
        "california_tax = calculate_california_taxes(salary)\n",
        "fica_tax = calculate_fica_taxes(salary)\n",
        "total_annual_taxes = federal_tax + california_tax + fica_tax\n",
        "monthly_tax = total_annual_taxes / 12\n",
        "\n",
        "# Calculate Savings & Retirement Contributions\n",
        "years_until_retirement = retirement_age - current_age\n",
        "target_retirement_fund = 2_000_000\n",
        "annual_retirement_savings = calculate_required_savings(target_retirement_fund, years_until_retirement)\n",
        "\n",
        "annual_retirement_contribution = salary * 0.12\n",
        "annual_savings_contribution = salary * 0.05\n",
        "total_annual_savings = annual_retirement_contribution + annual_savings_contribution\n",
        "\n",
        "# Calculate Final Take-Home Pay\n",
        "annual_after_tax = salary - total_annual_taxes - total_annual_savings\n",
        "monthly_after_tax = annual_after_tax / 12\n",
        "money_left_after_expenses = monthly_after_tax - cost_of_living\n",
        "\n",
        "# Print Results\n",
        "print(f\"\\n📌 Salary Breakdown for ${salary:,} (Age {current_age} → Retirement at {retirement_age}):\")\n",
        "print(f\"   - 🏛 Federal Taxes: ${federal_tax:,.2f} / year\")\n",
        "print(f\"   - 🌎 California Taxes: ${california_tax:,.2f} / year\")\n",
        "print(f\"   - 💵 FICA Taxes (SS + Medicare): ${fica_tax:,.2f} / year\")\n",
        "print(f\"   - 🏛 Total Taxes Paid: ${total_annual_taxes:,.2f} per year (${monthly_tax:,.2f} per month)\")\n",
        "\n",
        "print(f\"   - 💰 12% to Retirement: ${annual_retirement_contribution:,.2f} / year\")\n",
        "print(f\"   - 🏦 5% to Savings: ${annual_savings_contribution:,.2f} / year\")\n",
        "print(f\"   - 📉 After Taxes & Savings: ${annual_after_tax:,.2f} / year (${monthly_after_tax:,.2f} per month)\")\n",
        "print(f\"   - 🏠 Monthly Cost of Living: ${cost_of_living:,.2f}\")\n",
        "\n",
        "if money_left_after_expenses >= 0:\n",
        "    print(f\"✅ Money Left After Expenses: **${money_left_after_expenses:,.2f} per month** 🎉\")\n",
        "else:\n",
        "    print(f\"⚠️ Shortfall of **${-money_left_after_expenses:,.2f} per month**. Consider increasing your salary or reducing expenses.\")\n"
      ],
      "metadata": {
        "colab": {
          "base_uri": "https://localhost:8080/"
        },
        "id": "v6voDXFXfRqK",
        "outputId": "f99d1c00-1cd1-42d9-bcf7-984aeec6a86f"
      },
      "execution_count": 35,
      "outputs": [
        {
          "output_type": "stream",
          "name": "stdout",
          "text": [
            "Enter your annual salary: $90000\n",
            "Enter your current age: 23\n",
            "Enter your desired retirement age: 65\n",
            "\n",
            "📌 Salary Breakdown for $90,000.0 (Age 23 → Retirement at 65):\n",
            "   - 🏛 Federal Taxes: $15,107.16 / year\n",
            "   - 🌎 California Taxes: $4,361.37 / year\n",
            "   - 💵 FICA Taxes (SS + Medicare): $6,885.00 / year\n",
            "   - 🏛 Total Taxes Paid: $26,353.53 per year ($2,196.13 per month)\n",
            "   - 💰 12% to Retirement: $10,800.00 / year\n",
            "   - 🏦 5% to Savings: $4,500.00 / year\n",
            "   - 📉 After Taxes & Savings: $48,346.47 / year ($4,028.87 per month)\n",
            "   - 🏠 Monthly Cost of Living: $3,298.33\n",
            "✅ Money Left After Expenses: **$730.54 per month** 🎉\n"
          ]
        }
      ]
    },
    {
      "cell_type": "markdown",
      "source": [
        "here is all the website i use:\n",
        "I also used chat to make it iterative and accept inputs\n",
        "\n",
        "https://smartasset.com/taxes/california-paycheck-calculator#0htiafAIMp\n",
        "\n",
        "http://nerdwallet.com/calculator/retirement-calculator\n"
      ],
      "metadata": {
        "id": "S5yXIl9GgDO1"
      }
    },
    {
      "cell_type": "markdown",
      "source": [
        "##What methods/models/topics are you most interested in learning about as part of this class?\n"
      ],
      "metadata": {
        "id": "nxVLeW37JiUN"
      }
    },
    {
      "cell_type": "markdown",
      "source": [
        "Im really intrested in learning about nueral networks. Honestly, I have no preference on what we learn in class as long as its fun and interesting."
      ],
      "metadata": {
        "id": "WJqeon6xh-4h"
      }
    }
  ]
}